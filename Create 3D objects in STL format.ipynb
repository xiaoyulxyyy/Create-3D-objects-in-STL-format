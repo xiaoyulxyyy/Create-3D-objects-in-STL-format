{
 "cells": [
  {
   "cell_type": "markdown",
   "metadata": {},
   "source": [
    "# Quick Start: Creating Mesh objects from a list of vertices and faces"
   ]
  },
  {
   "cell_type": "code",
   "execution_count": null,
   "metadata": {},
   "outputs": [],
   "source": [
    "import numpy as np\n",
    "from stl import mesh\n",
    "from matplotlib import pyplot\n",
    "from PIL import Image\n",
    "\n",
    "# Define the 8 vertices of the cube\n",
    "vertices = np.array([\\\n",
    "    [-1, -1, -1],\n",
    "    [+1, -1, -1],\n",
    "    [+1, +1, -1],\n",
    "    [-1, +1, -1],\n",
    "    [-1, -1, +1],\n",
    "    [+1, -1, +1],\n",
    "    [+1, +1, +1],\n",
    "    [-1, +1, +1]])\n",
    "\n",
    "# Define the 12 triangles composing the cube \n",
    "# Note that the values below does not represent the x,y, z coordinates\n",
    "# For instance for [0,3,1] 0 is the 0th index vertices, 3 is 3th index vertices, and 1 is 1st index vertices\n",
    "faces = np.array([\\\n",
    "    [0,3,1], #index 0\n",
    "    [1,3,2], # index 1\n",
    "    [0,4,7], # index 2\n",
    "    [0,7,3], # index 3\n",
    "    [4,5,6], # index 4\n",
    "    [4,6,7], # index 5\n",
    "    [5,1,2], # index 6\n",
    "    [5,2,6], # index 7\n",
    "    [2,3,6], # index 8\n",
    "    [3,7,6], # index 9\n",
    "    [0,1,5], # index 10\n",
    "    [0,5,4]]) # index 11\n",
    "\n",
    "print(faces.shape) # Prints a tuple that shows the dimension and element. i.e Dimension of array = 12, Number of element in array  = 3\n",
    "# Create the mesh\n",
    "# Note that faces.shape[0] shows the number of dimension of the array\n",
    "cube = mesh.Mesh(np.zeros(faces.shape[0], dtype=mesh.Mesh.dtype))\n",
    "print(cube)\n",
    "\n",
    "# Note that the enumerate(faces) will return an output of a tuple (0,[0,3,1]) then the next iteration is (1, [1,3,2])\n",
    "# Therefore, i = 0, f = [0,3,1]\n",
    "# Loop through the faces with its index and content\n",
    "for i, f in enumerate(faces): \n",
    "    # Loop through the vertices (0,1,2) i.e your x, y, z coordinates\n",
    "    for j in range(3):\n",
    "        cube.vectors[i][j] = vertices[f[j],:] # Assigning vertices[f[j],:] to cube.vectors[i][j]\n",
    "\n",
    "### First loop will be i = 0, f =[0,3,1], j = 0\n",
    "# cube.vectors[0][0]\n",
    "# First loop will be cube.vectors[0][0] = 0, so f[0] = 0, therefore vertices[0,:] means keep first row, go through column\n",
    "# cube.vectors[0][0] = [-1,-1,-1]\n",
    "\n",
    "# i=0 ,f = [0,3,1], j =1\n",
    "#cube.vectors[0][1] =0\n",
    "# f[1] = 3 \n",
    "# vertices[3, :] keep row 3, go through all column\n",
    "# vertices[3, :] = [-1, 1, -1] \n",
    "\n",
    "\n",
    "\n",
    "# Write the mesh to file \"cube.stl\"\n",
    "cube.save('cube.stl')"
   ]
  },
  {
   "cell_type": "markdown",
   "metadata": {},
   "source": [
    "# Create a new image from scratch"
   ]
  },
  {
   "cell_type": "code",
   "execution_count": null,
   "metadata": {},
   "outputs": [],
   "source": [
    "width, height = 3,3\n",
    "im = Image.new(\"RGB\", (width, height))\n",
    "px = im.load() # Create a pixel map\n",
    "for x in range(width):\n",
    "    for y in range(height):\n",
    "        if (x+y)%2 !=0:\n",
    "            px[x,y] = (255,255,255)\n",
    "    im.save(\"tiktaktoe.jpg\")\n",
    "pyplot.imshow(im)\n",
    "pyplot.show()"
   ]
  },
  {
   "cell_type": "markdown",
   "metadata": {},
   "source": [
    "# Convert image to greyscale "
   ]
  },
  {
   "cell_type": "code",
   "execution_count": null,
   "metadata": {},
   "outputs": [],
   "source": [
    "grey_im = Image.open(\"tiktaktoe.jpg\").convert(\"L\")\n",
    "grey_im.save(\"grey tiktaktoe.jpg\")\n",
    "pyplot.imshow(grey_im)\n",
    "pyplot.show"
   ]
  },
  {
   "cell_type": "markdown",
   "metadata": {},
   "source": [
    "# Using existing image to test the greyscale function"
   ]
  },
  {
   "cell_type": "code",
   "execution_count": null,
   "metadata": {},
   "outputs": [],
   "source": [
    "download_im =  Image.open(\"download.jpg\").convert(\"L\")\n",
    "pyplot.imshow(download_im)\n",
    "pyplot.show"
   ]
  },
  {
   "cell_type": "markdown",
   "metadata": {},
   "source": [
    "Modifying the code from \"Creating Mesh objects from a list of vertices and faces\"\n",
    "\n",
    "# Create a 2D surface with 2 triangles"
   ]
  },
  {
   "cell_type": "code",
   "execution_count": null,
   "metadata": {},
   "outputs": [],
   "source": [
    "# Define 4 vertices of the surface\n",
    "vertices = np.array([\\\n",
    "    [-1, -1, -1],\n",
    "    [+1, -1, -1],\n",
    "    [+1, +1, -1],\n",
    "    [-1, +1, -1]\n",
    "    ])\n",
    "# Define the 2 triangles composing the surface\n",
    "faces = np.array([\\\n",
    "    [0,3,1],\n",
    "    [1,3,2]\n",
    "    ])\n",
    "# Create the mesh\n",
    "surface = mesh.Mesh(np.zeros(faces.shape[0], dtype = mesh.Mesh.dtype))\n",
    "for i, f in enumerate(faces):\n",
    "    for j in range(3):\n",
    "        surface.vectors[i][j] = vertices[f[j],:]\n",
    "\n",
    "# Write the mesh to file \"surface.stl\"\n",
    "surface.save(\"simple surface.stl\")"
   ]
  },
  {
   "cell_type": "markdown",
   "metadata": {},
   "source": [
    "# Introducing height to the surface created below\n"
   ]
  },
  {
   "cell_type": "code",
   "execution_count": null,
   "metadata": {},
   "outputs": [],
   "source": [
    "rows, cols = grey_im.size\n",
    "max_height, min_height = 3, 0\n",
    "grey_im_np = np.array(grey_im)\n",
    "maxPx = grey_im_np.max() # Get the max pixel intensity\n",
    "minPx = grey_im_np.min() # Get the min pixel intensity\n",
    "print(f\"Max pixel value: {maxPx}, Min pixel value: {minPx}\")"
   ]
  },
  {
   "cell_type": "markdown",
   "metadata": {},
   "source": [
    "Modify the above code to create a surface with n triangles\n",
    "- Start off by creating a surface that is enough for the image tiktaktoe.jpg\n",
    "- Introduce height to the surface. Note that \"height\" is also created from vertices\n",
    "# Create a list of vertices"
   ]
  },
  {
   "cell_type": "code",
   "execution_count": null,
   "metadata": {},
   "outputs": [],
   "source": [
    "vertices = np.zeros((rows, cols, 3), dtype = int)\n",
    "print(vertices.shape)\n",
    "for x in range(0, cols):\n",
    "    for y in range(0, rows):\n",
    "        pixelIntensity = grey_im_np[y][x]\n",
    "        z = (pixelIntensity * max_height)/maxPx\n",
    "        vertices[y][x] = (x,y,z)\n",
    "print(vertices)"
   ]
  },
  {
   "cell_type": "markdown",
   "metadata": {},
   "source": [
    "Since a mesh is made up of list of vertices and faces\n",
    "# Create a list of faces"
   ]
  },
  {
   "cell_type": "code",
   "execution_count": null,
   "metadata": {},
   "outputs": [],
   "source": [
    "faces = []\n",
    "\n",
    "for x in range(0, cols-1):\n",
    "    for y in range(0, rows-1):\n",
    "        # Create face 1\n",
    "        vertice1 = vertices[y][x]\n",
    "        vertice2 = vertices[y+1][x]\n",
    "        vertice3 = vertices[y+1][x+1]\n",
    "        face1 = np.array([vertice1,vertice2, vertice3])\n",
    "        # Create face 2\n",
    "        vertice1 = vertices[y][x]\n",
    "        vertice2 = vertices[y][x+1]\n",
    "        vertice3 = vertices[y+1][x+1]\n",
    "        face2 = np.array([vertice1, vertice2, vertice3])\n",
    "\n",
    "        faces.append(face1)\n",
    "        faces.append(face2)\n",
    "faces_np = np.array(faces)\n",
    "print(f\"Number of faces = {len(faces_np)}\")"
   ]
  },
  {
   "cell_type": "markdown",
   "metadata": {},
   "source": [
    "Now we have the list of vertices and faces ready, we can move on to create a mesh object with the list of vertices and faces\n",
    "\n",
    "# Create mesh object with the generated list of vertices and faces\n"
   ]
  },
  {
   "cell_type": "code",
   "execution_count": null,
   "metadata": {},
   "outputs": [],
   "source": [
    "surface = mesh.Mesh(np.zeros(faces_np.shape[0], dtype = mesh.Mesh.dtype))\n",
    "\n",
    "for i, f in enumerate(faces):\n",
    "    for j in range(3):\n",
    "        surface.vectors[i][j] = faces_np[i][j]\n",
    "\n",
    "# Write the mesh to file \"surface.stl\"\n",
    "surface.save('4x4 surface.stl')\n",
    "print(vertices)"
   ]
  }
 ],
 "metadata": {
  "interpreter": {
   "hash": "5fe37851ddefeed3a4869a0af261edf6440cd13737a7cf407d27ca5051bb0017"
  },
  "kernelspec": {
   "display_name": "Python 3",
   "language": "python",
   "name": "python3"
  },
  "language_info": {
   "codemirror_mode": {
    "name": "ipython",
    "version": 3
   },
   "file_extension": ".py",
   "mimetype": "text/x-python",
   "name": "python",
   "nbconvert_exporter": "python",
   "pygments_lexer": "ipython3",
   "version": "3.8.8"
  }
 },
 "nbformat": 4,
 "nbformat_minor": 2
}
